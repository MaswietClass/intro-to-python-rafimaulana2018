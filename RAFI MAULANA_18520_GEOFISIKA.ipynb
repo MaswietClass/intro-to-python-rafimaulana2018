{
 "cells": [
  {
   "cell_type": "code",
   "execution_count": 2,
   "metadata": {},
   "outputs": [
    {
     "name": "stdout",
     "output_type": "stream",
     "text": [
      "Masukkan Angka2\n",
      "Genap\n"
     ]
    }
   ],
   "source": [
    "Angka = input(\"Masukkan Angka\")\n",
    "\n",
    "if int(Angka) % 2 == 1 :\n",
    "    print (\"Ganjil\")\n",
    "else :\n",
    "    print (\"Genap\")"
   ]
  }
 ],
 "metadata": {
  "kernelspec": {
   "display_name": "Python 3",
   "language": "python",
   "name": "python3"
  },
  "language_info": {
   "codemirror_mode": {
    "name": "ipython",
    "version": 3
   },
   "file_extension": ".py",
   "mimetype": "text/x-python",
   "name": "python",
   "nbconvert_exporter": "python",
   "pygments_lexer": "ipython3",
   "version": "3.7.1"
  }
 },
 "nbformat": 4,
 "nbformat_minor": 2
}
